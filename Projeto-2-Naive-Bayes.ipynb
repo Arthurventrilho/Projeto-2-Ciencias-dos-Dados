{
 "cells": [
  {
   "cell_type": "markdown",
   "metadata": {},
   "source": [
    "# Projeto 2 - Classificador Automático de Sentimento\n",
    "\n",
    "Você foi contratado por uma empresa parar analisar como os clientes estão reagindo a um determinado produto no Twitter. A empresa deseja que você crie um programa que irá analisar as mensagens disponíveis e classificará como \"relevante\" ou \"irrelevante\". Com isso ela deseja que mensagens negativas, que denigrem o nome do produto, ou que mereçam destaque, disparem um foco de atenção da área de marketing.<br /><br />\n",
    "Como aluno de Ciência dos Dados, você lembrou do Teorema de Bayes, mais especificamente do Classificador Naive-Bayes, que é largamente utilizado em filtros anti-spam de e-mails. O classificador permite calcular qual a probabilidade de uma mensagem ser relevante dadas as palavras em seu conteúdo.<br /><br />\n",
    "Para realizar o MVP (*minimum viable product*) do projeto, você precisa implementar uma versão do classificador que \"aprende\" o que é relevante com uma base de treinamento e compara a performance dos resultados com uma base de testes.<br /><br />\n",
    "Após validado, o seu protótipo poderá também capturar e classificar automaticamente as mensagens da plataforma.\n",
    "\n",
    "## Informações do Projeto\n",
    "\n",
    "Prazo: 19/Set até às 23:59.<br />\n",
    "Grupo: 2 ou 3 pessoas - grupos com 3 pessoas terá uma rubrica diferenciada.<br /><br />\n",
    "Entregáveis via GitHub: \n",
    "* Arquivo notebook com o código do classificador, seguindo as orientações abaixo.\n",
    "* Arquivo Excel com as bases de treinamento e teste totalmente classificado.\n",
    "\n",
    "**NÃO gravar a key do professor no arquivo**\n",
    "\n",
    "\n",
    "### Entrega Intermediária: Check 1 - APS 2\n",
    "\n",
    "Até o dia 10/Set às 23:59, xlsx deve estar no Github com as seguintes evidências: \n",
    "\n",
    "  * Produto escolhido.\n",
    "  * Arquivo Excel contendo a base de treinamento e a base de testes já classificadas.\n",
    "\n",
    "Sugestão de leitura:<br />\n",
    "https://monkeylearn.com/blog/practical-explanation-naive-bayes-classifier/"
   ]
  },
  {
   "cell_type": "markdown",
   "metadata": {},
   "source": [
    "___\n",
    "\n",
    "## Parte I - Adquirindo a Base de Dados\n",
    "\n",
    "Acessar o notebook **Projeto-2-Planilha** para realizar a coleta dos dados. O grupo deve classificar os dados coletados manualmente."
   ]
  },
  {
   "cell_type": "markdown",
   "metadata": {},
   "source": [
    "___\n",
    "## Parte II - Montando o Classificador Naive-Bayes\n",
    "\n",
    "Com a base de treinamento montada, comece a desenvolver o classificador. Não se esqueça de implementar o Laplace Smoothing https://en.wikipedia.org/wiki/Laplace_smoothing\n",
    "\n",
    "Opcionalmente: \n",
    "* Limpar as mensagens removendo os caracteres: enter, :, \", ', (, ), etc. Não remover emojis.<br />\n",
    "* Corrigir separação de espaços entre palavras e/ou emojis.\n",
    "* Propor outras limpezas/transformações que não afetem a qualidade da informação.\n",
    "\n",
    "Escreva o seu código abaixo:"
   ]
  },
  {
   "cell_type": "code",
   "execution_count": 1,
   "metadata": {},
   "outputs": [],
   "source": [
    "%matplotlib inline\n",
    "import pandas as pd\n",
    "import numpy as np\n",
    "import math\n",
    "from scipy import stats\n",
    "import mpmath\n",
    "import matplotlib.pyplot as plt\n"
   ]
  },
  {
   "cell_type": "code",
   "execution_count": 2,
   "metadata": {},
   "outputs": [],
   "source": [
    "def limpa(d):\n",
    "    lista1 = [\",\", \".\", \"?\", \"@\", \":\", \";\", \"!\", \"'\", '\"', \"“\", \"”\", \"#\", \"(\", \")\", \"…\", \"/\", \"+\", \"-\", \"$\"]\n",
    "     \n",
    "    k = 0        \n",
    "    for n in lista1:\n",
    "        d = d.replace(lista1[k], \"\")\n",
    "        k += 1\n",
    "\n",
    "    d = d.split()\n",
    "    for p in d:\n",
    "        if \"https\" in p:\n",
    "            d.remove(p)\n",
    "    return d\n",
    "\n",
    "def limpa_cada_linha(PD, coluna):\n",
    "    j = 0\n",
    "    for i in PD[coluna]:\n",
    "        PD[coluna][j] = limpa(PD.loc[j, coluna])\n",
    "        j += 1\n",
    "        \n",
    "        \n",
    "def retorna_D(dic1, dic2, opcoes, PD, coluna1, coluna2):\n",
    "    limpa_cada_linha(PD, coluna1)\n",
    "    a = 0\n",
    "    for l in range(len(PD[coluna1])):\n",
    "        for op in opcoes:\n",
    "            if PD.loc[a, coluna2] == op:\n",
    "                pedaco_D(dic1, PD.loc[a, coluna1], op)\n",
    "        \n",
    "        outro_pedaco_D(dic2, PD.loc[a, coluna1])\n",
    "        a += 1\n",
    "    return dic1, dic2\n",
    "\n",
    "def pedaco_D(dici, lista, cat):\n",
    "    for p in lista:\n",
    "        if cat in dici:\n",
    "            if p in dici[cat]:\n",
    "                dici[cat][p] += 1\n",
    "            else:\n",
    "                dici[cat][p] = 1\n",
    "        else:\n",
    "            dici[cat] = {}\n",
    "            dici[cat][p] = 1\n",
    "    \n",
    "def outro_pedaco_D(dici2, lista2):\n",
    "    for p in lista2:\n",
    "        if p in dici2:\n",
    "            dici2[p] += 1\n",
    "        else:\n",
    "            dici2[p] = 1\n",
    "            \n",
    "def laplace_smothing(dict2, dict1, laplace_n):\n",
    "\n",
    "    for p in dict1:\n",
    "        dict1[p] += laplace_n\n",
    "    \n",
    "    \n",
    "    for op in dict2:\n",
    "\n",
    "        for p in dict2[op]:\n",
    "            dict2[op][p] += laplace_n\n",
    "        \n",
    "        \n",
    "    return  dict2, dict1\n",
    "\n",
    "def soma_dicts(dicio1, dicio2):\n",
    "    soma1 = {}\n",
    "    for op in dicio1:\n",
    "        soma = 0\n",
    "        for p in dicio1[op]:\n",
    "            soma += dicio1[op][p]\n",
    "        soma1[op] = soma\n",
    "    soma2 = 0    \n",
    "    for p in dicio2:\n",
    "        soma2 += dicio2[p]\n",
    "        \n",
    "    return soma1, soma2\n",
    "    \n",
    "def porcentagem(dicio1, dicio2, somas1, somas2):\n",
    "    dicionario1 = {}\n",
    "    dicionario2 = {}\n",
    "    \n",
    "    for op in dicio1:\n",
    "        dicionario1[op] = {}\n",
    "        for p in dicio1[op]:\n",
    "            dicionario1[op][p] = dicio1[op][p] / somas1[op]\n",
    "            \n",
    "    for p in dicio2:\n",
    "        dicionario2[p] = dicio2[p] / somas2\n",
    "        \n",
    "    return dicionario1, dicionario2\n",
    "\n",
    "def proporcoes(PD, coluna, lista):\n",
    "    opcoes = {}\n",
    "    for o in lista:\n",
    "        opcoes[o] = 0\n",
    "        for op in PD[coluna]:\n",
    "            if op == o:\n",
    "                opcoes[o] += 1\n",
    "                \n",
    "    for d in opcoes:\n",
    "        opcoes[d] = opcoes[d] / len(PD[coluna])\n",
    "\n",
    "    return opcoes\n",
    "\n",
    "def finaliza(porcentagem_palavras_geral, porcentagem_palavras_dado_opcao, porcentagem_da_opcao, soma_geral, soma_opcoes, PD, coluna, lista_opcoes, nomes_coluna):\n",
    "    for op in lista_opcoes:\n",
    "        lista = []\n",
    "        for frase in PD[coluna]:\n",
    "            prob_frase = mpmath.mpf(1)\n",
    "            prob_frase_dado_op = mpmath.mpf(1)\n",
    "            for palavra in frase:\n",
    "                if palavra in porcentagem_palavras_geral:\n",
    "                    prob_frase *= porcentagem_palavras_geral[palavra]\n",
    "                else:\n",
    "                    prob_frase *= 1/soma_geral\n",
    "                if palavra in porcentagem_palavras_dado_opcao[op]:\n",
    "                    prob_frase_dado_op *= porcentagem_palavras_dado_opcao[op][palavra]\n",
    "                else:\n",
    "                    prob_frase_dado_op *= 1/soma_opcoes[op]\n",
    "            lista.append((prob_frase_dado_op * porcentagem_da_opcao[op]) / prob_frase)\n",
    "        nome = nomes_coluna[op]\n",
    "        PD[nome] = pd.Series((lista), index = PD.index)\n",
    "        \n",
    "        \n",
    "    "
   ]
  },
  {
   "cell_type": "code",
   "execution_count": 3,
   "metadata": {},
   "outputs": [],
   "source": [
    "#Leitura dos arquivos em Excel\n",
    "TR = pd.read_excel('tweets_TESLA_201809101218.xlsx', sheet_name = 0)\n",
    "TS = pd.read_excel('tweets_TESLA_201809101218.xlsx', sheet_name = 1)\n"
   ]
  },
  {
   "cell_type": "code",
   "execution_count": 4,
   "metadata": {},
   "outputs": [
    {
     "name": "stderr",
     "output_type": "stream",
     "text": [
      "C:\\Users\\gzkaw\\Anaconda3\\lib\\site-packages\\ipykernel_launcher.py:18: SettingWithCopyWarning: \n",
      "A value is trying to be set on a copy of a slice from a DataFrame\n",
      "\n",
      "See the caveats in the documentation: http://pandas.pydata.org/pandas-docs/stable/indexing.html#indexing-view-versus-copy\n"
     ]
    }
   ],
   "source": [
    "limpa_cada_linha(TS, \"Teste\")\n",
    "TP = TS"
   ]
  },
  {
   "cell_type": "code",
   "execution_count": 5,
   "metadata": {},
   "outputs": [],
   "source": [
    "p_op = proporcoes(TR, \"Classificação\", [0, 1])"
   ]
  },
  {
   "cell_type": "code",
   "execution_count": 6,
   "metadata": {
    "scrolled": true
   },
   "outputs": [
    {
     "name": "stderr",
     "output_type": "stream",
     "text": [
      "C:\\Users\\gzkaw\\Anaconda3\\lib\\site-packages\\ipykernel_launcher.py:18: SettingWithCopyWarning: \n",
      "A value is trying to be set on a copy of a slice from a DataFrame\n",
      "\n",
      "See the caveats in the documentation: http://pandas.pydata.org/pandas-docs/stable/indexing.html#indexing-view-versus-copy\n"
     ]
    }
   ],
   "source": [
    "opcoes_d, geral_d = retorna_D({}, {}, [0, 1], TR, \"Treinamento\", \"Classificação\")"
   ]
  },
  {
   "cell_type": "code",
   "execution_count": 7,
   "metadata": {},
   "outputs": [],
   "source": [
    "soma_opcoes, soma_geral = soma_dicts(opcoes_d, geral_d)"
   ]
  },
  {
   "cell_type": "code",
   "execution_count": 8,
   "metadata": {},
   "outputs": [
    {
     "data": {
      "text/plain": [
       "{0: 1389, 1: 4687}"
      ]
     },
     "execution_count": 8,
     "metadata": {},
     "output_type": "execute_result"
    }
   ],
   "source": [
    "soma_opcoes"
   ]
  },
  {
   "cell_type": "code",
   "execution_count": 9,
   "metadata": {},
   "outputs": [
    {
     "data": {
      "text/plain": [
       "6076"
      ]
     },
     "execution_count": 9,
     "metadata": {},
     "output_type": "execute_result"
    }
   ],
   "source": [
    "soma_geral"
   ]
  },
  {
   "cell_type": "code",
   "execution_count": 10,
   "metadata": {},
   "outputs": [],
   "source": [
    "opcoes_d2, geral_d2 = laplace_smothing(opcoes_d, geral_d, 1)"
   ]
  },
  {
   "cell_type": "code",
   "execution_count": 11,
   "metadata": {},
   "outputs": [],
   "source": [
    "soma_opcoes, soma_geral = soma_dicts(opcoes_d2, geral_d2)"
   ]
  },
  {
   "cell_type": "code",
   "execution_count": 12,
   "metadata": {},
   "outputs": [
    {
     "data": {
      "text/plain": [
       "{0: 2006, 1: 6054}"
      ]
     },
     "execution_count": 12,
     "metadata": {},
     "output_type": "execute_result"
    }
   ],
   "source": [
    "soma_opcoes"
   ]
  },
  {
   "cell_type": "code",
   "execution_count": 13,
   "metadata": {},
   "outputs": [
    {
     "data": {
      "text/plain": [
       "7769"
      ]
     },
     "execution_count": 13,
     "metadata": {},
     "output_type": "execute_result"
    }
   ],
   "source": [
    "soma_geral"
   ]
  },
  {
   "cell_type": "code",
   "execution_count": 14,
   "metadata": {},
   "outputs": [],
   "source": [
    "por_palavra_op, por_palavra_g = porcentagem(opcoes_d2, geral_d2, soma_opcoes, soma_geral)"
   ]
  },
  {
   "cell_type": "code",
   "execution_count": 15,
   "metadata": {},
   "outputs": [],
   "source": [
    "finaliza(por_palavra_g, por_palavra_op, p_op, soma_geral, soma_opcoes, TP, \"Teste\", [0, 1], [\"P N\", \"P R\"])\n"
   ]
  },
  {
   "cell_type": "markdown",
   "metadata": {},
   "source": [
    "___\n",
    "## Verificando a performance\n",
    "\n",
    "Agora você deve testar o seu Classificador com a base de Testes.<br /><br /> \n",
    "\n",
    "Você deve extrair as seguintes medidas:\n",
    "* Porcentagem de positivos falsos (marcados como relevante mas não são relevantes)\n",
    "* Porcentagem de positivos verdadeiros (marcado como relevante e são relevantes)\n",
    "* Porcentagem de negativos verdadeiros (marcado como não relevante e não são relevantes)\n",
    "* Porcentagem de negativos falsos (marcado como não relevante e são relevantes)\n",
    "\n",
    "Obrigatório para grupos de 3 alunos:\n",
    "* Criar categorias intermediárias de relevância baseado na diferença de probabilidades. Exemplo: muito relevante, relevante, neutro, irrelevante e muito irrelevante."
   ]
  },
  {
   "cell_type": "code",
   "execution_count": 23,
   "metadata": {},
   "outputs": [
    {
     "name": "stdout",
     "output_type": "stream",
     "text": [
      "0.8907627118644067\n"
     ]
    }
   ],
   "source": [
    "a = 1/soma_geral\n",
    "b = 1/soma_opcoes[0]\n",
    "c = p_op[0]\n",
    "print((b*c)/a)"
   ]
  },
  {
   "cell_type": "markdown",
   "metadata": {},
   "source": [
    "___\n",
    "## Concluindo\n",
    "\n",
    "Escreva aqui a sua conclusão.<br /> \n",
    "Faça um comparativo qualitativo sobre as medidas obtidas.<br />\n",
    "Explique como são tratadas as mensagens com dupla negação e sarcasmo.<br />\n",
    "Proponha um plano de expansão. Por que eles devem continuar financiando o seu projeto?<br />\n",
    "\n",
    "Opcionalmente: \n",
    "* Discorrer por que não posso alimentar minha base de Treinamento automaticamente usando o próprio classificador, aplicado a novos tweets.\n",
    "* Propor diferentes cenários de uso para o classificador Naive-Bayes. Cenários sem intersecção com este projeto.\n",
    "* Sugerir e explicar melhorias reais no classificador com indicações concretas de como implementar (não é preciso codificar, mas indicar como fazer e material de pesquisa sobre o assunto).\n"
   ]
  }
 ],
 "metadata": {
  "kernelspec": {
   "display_name": "Python 3",
   "language": "python",
   "name": "python3"
  },
  "language_info": {
   "codemirror_mode": {
    "name": "ipython",
    "version": 3
   },
   "file_extension": ".py",
   "mimetype": "text/x-python",
   "name": "python",
   "nbconvert_exporter": "python",
   "pygments_lexer": "ipython3",
   "version": "3.6.5"
  }
 },
 "nbformat": 4,
 "nbformat_minor": 2
}
